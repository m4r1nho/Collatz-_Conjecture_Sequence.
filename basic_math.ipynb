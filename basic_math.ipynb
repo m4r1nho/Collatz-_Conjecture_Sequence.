{
  "nbformat": 4,
  "nbformat_minor": 0,
  "metadata": {
    "colab": {
      "provenance": [],
      "toc_visible": true
    },
    "kernelspec": {
      "name": "python3",
      "display_name": "Python 3"
    },
    "language_info": {
      "name": "python"
    }
  },
  "cells": [
    {
      "cell_type": "markdown",
      "source": [
        "**Using math on Python** <br>"
      ],
      "metadata": {
        "id": "Qye_H-mCchZv"
      }
    },
    {
      "cell_type": "code",
      "source": [
        "# vamos entrar com 2 valores e assim ver as operações entre eles\n",
        "a = float(input(\"Digite o valor de a: \"))\n",
        "b = float(input(\"Digite o valor de b: \"))\n"
      ],
      "metadata": {
        "colab": {
          "base_uri": "https://localhost:8080/"
        },
        "id": "ZH2aKI4perU9",
        "outputId": "bf729b57-1523-43c1-bfcd-0e0d8c6fa3f0"
      },
      "execution_count": null,
      "outputs": [
        {
          "name": "stdout",
          "output_type": "stream",
          "text": [
            "Digite o valor de a: 256\n",
            "Digite o valor de b: 2\n"
          ]
        }
      ]
    },
    {
      "cell_type": "code",
      "source": [
        "import math # aqui só sei pro log\n",
        "\n",
        "soma = a + b\n",
        "print(f' a + b = ', soma)\n",
        "\n",
        "subtracao = a - b\n",
        "print(f' a - b = ', subtracao)\n",
        "\n",
        "multiplicacao = a * b\n",
        "print(f' a * b = ', multiplicacao)\n",
        "\n",
        "divisao = a / b\n",
        "print(f' a / b = ', divisao)\n",
        "\n",
        "potencia = a ** b\n",
        "print(f' a ** b = ', potencia) # normalmente em programacao é ^, mas em py é **\n",
        "\n",
        "divisao_inteira = a // b # aqui o resultado é um número inteiro\n",
        "print(f' a // b = ', divisao_inteira)\n",
        "\n",
        "raiz = a ** (1/b)\n",
        "print(f'Raiz {b} de {a} = ', raiz)\n",
        "\n",
        "resto = a % b\n",
        "print(f'Resto de a / b =', resto)\n",
        "\n",
        "\n",
        "log_a_base_b = math.log(a, b)\n",
        "print(f'log de {a} na base {b} = ', log_a_base_b)"
      ],
      "metadata": {
        "colab": {
          "base_uri": "https://localhost:8080/"
        },
        "id": "0OPeKtJwcXDd",
        "outputId": "f36aa792-29ad-4aad-d4d7-65915e43cef1"
      },
      "execution_count": null,
      "outputs": [
        {
          "output_type": "stream",
          "name": "stdout",
          "text": [
            " a + b =  258.0\n",
            " a - b =  254.0\n",
            " a * b =  512.0\n",
            " a / b =  128.0\n",
            " a ** b =  65536.0\n",
            " a // b =  128.0\n",
            "Raiz 2.0 de 256.0 =  16.0\n",
            "Resto de a / b = 0.0\n",
            "log de 256.0 na base 2.0 =  8.0\n"
          ]
        }
      ]
    },
    {
      "cell_type": "code",
      "source": [
        "import math\n",
        "\n",
        "valor = 256\n",
        "print(valor)\n",
        "\n",
        "log_base2 = math.log2(valor)\n",
        "\n",
        "log_euler = math.log(valor)\n",
        "\n",
        "log_base10 = math.log10(valor)\n",
        "\n",
        "print(\"Logaritmo na base 2:\", log_base2)\n",
        "print(\"Logaritmo na base 10:\", log_base10)\n",
        "print(\"Logaritmo natural (ln):\", log_euler)\n"
      ],
      "metadata": {
        "colab": {
          "base_uri": "https://localhost:8080/"
        },
        "id": "FGIvE-TdrzE9",
        "outputId": "e3dc487b-fe6a-4c41-c3f9-a3849194f491"
      },
      "execution_count": null,
      "outputs": [
        {
          "output_type": "stream",
          "name": "stdout",
          "text": [
            "256\n",
            "Logaritmo na base 2: 8.0\n",
            "Logaritmo na base 10: 2.4082399653118496\n",
            "Logaritmo natural (ln): 5.545177444479562\n"
          ]
        }
      ]
    },
    {
      "cell_type": "code",
      "source": [
        "import math\n",
        "\n",
        "# Primeiro valor\n",
        "a = float(input(\"Digite o primeiro valor: \"))\n",
        "\n",
        "# Segundo valor (base do logaritmo)\n",
        "b = float(input(\"Digite o segundo valor (base do logaritmo): \"))\n",
        "\n",
        "# Calcula o logaritmo do primeiro valor na base do segundo valor\n",
        "log_na_base_do_segundo = math.log(a, b)\n",
        "\n",
        "print(\"O logaritmo de\", a, \"na base de\", b, \"é:\", log_na_base_do_segundo)\n"
      ],
      "metadata": {
        "colab": {
          "base_uri": "https://localhost:8080/"
        },
        "id": "Q_uTzMMXtOP8",
        "outputId": "4f84aedb-d9ef-4402-9a91-ac68cfc43061"
      },
      "execution_count": null,
      "outputs": [
        {
          "output_type": "stream",
          "name": "stdout",
          "text": [
            "Digite o primeiro valor: 30\n",
            "Digite o segundo valor (base do logaritmo): 3\n",
            "O logaritmo de 30.0 na base de 3.0 é: 3.0959032742893844\n"
          ]
        }
      ]
    },
    {
      "cell_type": "code",
      "source": [
        "# caso precise arredondar um numero muito grande\n",
        "c = 1.23945678\n",
        "c = round(c, 2)\n",
        "print(c)\n",
        "\n",
        "d = 3.55555555\n",
        "d = round(d, 3)\n",
        "print(d)"
      ],
      "metadata": {
        "colab": {
          "base_uri": "https://localhost:8080/"
        },
        "id": "zt-pnQdYgNiL",
        "outputId": "fda5a279-7e59-4241-e752-a6c07d74b787"
      },
      "execution_count": null,
      "outputs": [
        {
          "output_type": "stream",
          "name": "stdout",
          "text": [
            "1.24\n",
            "3.556\n"
          ]
        }
      ]
    },
    {
      "cell_type": "code",
      "source": [
        "import numpy as np\n",
        "import matplotlib.pyplot as plt\n",
        "\n",
        "# Criando um array de valores x\n",
        "x = np.linspace(-20, 20, 400)\n",
        "\n",
        "# Calculando os valores y para as funções quadrática e cúbica\n",
        "y_quadratic = x**2\n",
        "y_cubic = x**3\n",
        "y_log\n",
        "\n",
        "# Criando o gráfico\n",
        "plt.figure(figsize=(8, 6))\n",
        "plt.plot(x, x, label ='f(x)=x')\n",
        "plt.plot(x, y_quadratic, label='f(x) = x^2')\n",
        "plt.plot(x, y_cubic, label='f(x) = x^3')\n",
        "\n",
        "\n",
        "\n",
        "plt.title('Gráfico das Funções ')\n",
        "plt.xlabel('x')\n",
        "plt.ylabel('f(x)')\n",
        "plt.axhline(0, color='black', linewidth=0.5)\n",
        "plt.axvline(0, color='black', linewidth=0.5)\n",
        "plt.grid(color='gray', linestyle='--', linewidth=0.5)\n",
        "plt.ylim(-10, 20)  # Ajuste do intervalo do eixo y\n",
        "plt.legend()\n",
        "plt.show()\n",
        "\n"
      ],
      "metadata": {
        "colab": {
          "base_uri": "https://localhost:8080/",
          "height": 565
        },
        "id": "pHQsbFkYntPs",
        "outputId": "3d45189e-a889-40a9-ab55-0ad3764d46c4"
      },
      "execution_count": null,
      "outputs": [
        {
          "output_type": "display_data",
          "data": {
            "text/plain": [
              "<Figure size 800x600 with 1 Axes>"
            ],
            "image/png": "[encoded data removed]"
          },
          "metadata": {}
        }
      ]
    },
    {
      "cell_type": "code",
      "source": [
        "import matplotlib.pyplot as plt\n",
        "import numpy as np\n",
        "\n",
        "# um grafico de dispersão com linha regressão\n",
        "\n",
        "# Vetores x e y\n",
        "x = [1,3,4,6,8,9,11,14]\n",
        "y = [1,2,4,4,5,7,8,9]\n",
        "\n",
        "\n",
        "# Plotando o gráfico de dispersão\n",
        "plt.scatter(x, y)\n",
        "\n",
        "# Calculando os coeficientes da linha de regressão (grau 1)\n",
        "coefficients = np.polyfit(x, y, 1)\n",
        "\n",
        "# Gerando valores de y para a linha de regressão\n",
        "y_regression = np.polyval(coefficients, x)\n",
        "\n",
        "# Plotando a linha de regressão\n",
        "plt.plot(x, y_regression, color='#FF8888')\n",
        "\n",
        "# Adicionando rótulos aos eixos\n",
        "plt.xlabel('X')\n",
        "plt.ylabel('Y')\n",
        "\n",
        "# Adicionando título ao gráfico\n",
        "plt.title('Gráfico de Dispersão com Linha de Regressão')\n",
        "\n",
        "# Mostrando o gráfico\n",
        "plt.show()\n"
      ],
      "metadata": {
        "colab": {
          "base_uri": "https://localhost:8080/",
          "height": 472
        },
        "id": "9VOwTeettu06",
        "outputId": "e907d981-711c-4d60-9866-5f8a21dac054"
      },
      "execution_count": null,
      "outputs": [
        {
          "output_type": "display_data",
          "data": {
            "text/plain": [
              "<Figure size 640x480 with 1 Axes>"
            ],
            "image/png": "[encoded data removed]"
          },
          "metadata": {}
        }
      ]
    },
    {
      "cell_type": "code",
      "source": [
        "# Aplicando o método dos mínimos quadrados para ajustar uma linha reta (y = mx + b)\n",
        "A = np.vstack([x, np.ones(len(x))]).T\n",
        "m, b = np.linalg.lstsq(A, y, rcond=None)[0]\n",
        "\n",
        "# Coeficientes encontrados\n",
        "print(\"Coeficiente angular (m):\", m)\n",
        "print(\"Coeficiente linear (b):\", b)"
      ],
      "metadata": {
        "colab": {
          "base_uri": "https://localhost:8080/"
        },
        "id": "uDQ58F1J0sMs",
        "outputId": "bed6d5a4-5985-400b-b5e0-82e5931fe3b8"
      },
      "execution_count": null,
      "outputs": [
        {
          "output_type": "stream",
          "name": "stdout",
          "text": [
            "Coeficiente angular (m): 0.6363636363636365\n",
            "Coeficiente linear (b): 0.5454545454545456\n"
          ]
        }
      ]
    },
    {
      "cell_type": "code",
      "source": [
        "vector_a = [1, 2, 3, 5, 10]\n",
        "\n",
        "# e se eu quiser duplicar os valores num vetor?\n",
        "\n",
        "duplicate = vector_a * 2\n",
        "print(duplicate)\n",
        "duplicate.sort()\n",
        "print(duplicate)"
      ],
      "metadata": {
        "colab": {
          "base_uri": "https://localhost:8080/"
        },
        "id": "vClQeasBkhHM",
        "outputId": "e173cbb5-8022-4af8-beb3-f9fc93fa4e78"
      },
      "execution_count": null,
      "outputs": [
        {
          "output_type": "stream",
          "name": "stdout",
          "text": [
            "[1, 2, 3, 5, 10, 1, 2, 3, 5, 10]\n",
            "[1, 1, 2, 2, 3, 3, 5, 5, 10, 10]\n"
          ]
        }
      ]
    },
    {
      "cell_type": "code",
      "source": [
        "# agora penso em usar operações nos valores de um vetor\n",
        "\n",
        "vector_a = [1, 2, 3, 5, 10]\n",
        "\n",
        "d = -2\n",
        "\n",
        "# multiplicar\n",
        "vector_mult = [elemento * d for elemento in vector_a]\n",
        "print(vector_mult)\n",
        "\n",
        "# somar ( subtrair no caso de d = -2)\n",
        "vector_add = [elemento + d for elemento in vector_a]\n",
        "print(vector_add)\n"
      ],
      "metadata": {
        "colab": {
          "base_uri": "https://localhost:8080/"
        },
        "id": "ose_nw31mzOq",
        "outputId": "5030ef9b-eea6-4277-9f44-354d69387a62"
      },
      "execution_count": null,
      "outputs": [
        {
          "output_type": "stream",
          "name": "stdout",
          "text": [
            "[-2, -4, -6, -10, -20]\n",
            "[-1, 0, 1, 3, 8]\n"
          ]
        }
      ]
    },
    {
      "cell_type": "code",
      "source": [
        "import numpy as np\n",
        "\n",
        "vector_a = [1, 2, 3, 5, 10, 71, 72]\n",
        "vector_b = [4, 6, 7, 8, 9, 71, 72]\n",
        "\n",
        "# fazer fusão de valores de listas\n",
        "print('Fusão:')\n",
        "vector_c = vector_a + vector_b\n",
        "\n",
        "vector_c.sort() # orgazinando\n",
        "print(vector_c)\n",
        "\n",
        "\n",
        "vector_d = [] #vetor para fusão sem repetir\n",
        "vector_e = [] #vetor para valores em comum\n",
        "\n",
        "\n",
        "for i in vector_c: # percorrendo os valores de vector_c\n",
        "    if i not in vector_d: # se o valor nao estiver no novo vetor\n",
        "        vector_d.append(i)# adiciona\n",
        "    else:\n",
        "      vector_e.append(i)\n",
        "\n",
        "vector_d.sort()\n",
        "vector_e.sort()\n",
        "print('Fusão sem repetir: ')\n",
        "print(vector_d)\n",
        "print('Valores em comum: ')\n",
        "print(vector_e)\n",
        "\n",
        "print('\\nMatriz com os dois vetores:')\n",
        "matrix = np.vstack((vector_a, vector_b))\n",
        "print(matrix)"
      ],
      "metadata": {
        "colab": {
          "base_uri": "https://localhost:8080/"
        },
        "id": "x1nZ1uxXoDeR",
        "outputId": "5a81f817-6e93-4a8d-e68e-ba4ae5c70ee4"
      },
      "execution_count": null,
      "outputs": [
        {
          "output_type": "stream",
          "name": "stdout",
          "text": [
            "Fusão:\n",
            "[1, 2, 3, 4, 5, 6, 7, 8, 9, 10, 71, 71, 72, 72]\n",
            "Fusão sem repetir: \n",
            "[1, 2, 3, 4, 5, 6, 7, 8, 9, 10, 71, 72]\n",
            "Valores em comum: \n",
            "[71, 72]\n",
            "\n",
            "Matriz com os dois vetores:\n",
            "[[ 1  2  3  5 10 71 72]\n",
            " [ 4  6  7  8  9 71 72]]\n"
          ]
        }
      ]
    },
    {
      "cell_type": "code",
      "source": [
        "import numpy as np\n",
        "\n",
        "# Criando uma matriz exemplo\n",
        "matrix_b = np.array([[1, 2, 3],\n",
        "                   [4, 5, 6],\n",
        "                   [7, 8, 11]])\n",
        "\n",
        "# Obtendo os valores da diagonal principal\n",
        "vetor_diagonal = np.diagonal(matrix_b)\n",
        "\n",
        "print(\"Matriz:\")\n",
        "print(matrix_b)\n",
        "print(\"\\nDiagonal principal:\")\n",
        "print(vetor_diagonal)\n",
        "\n",
        "# Calculando a determinante\n",
        "determinante = np.linalg.det(matrix_b)\n",
        "\n",
        "print(\"A determinante da matriz é:\", determinante)\n",
        "\n",
        "\n",
        "\n",
        "\n",
        "print(\"\\nMatriz Transposta:\")\n",
        "transposta = np.transpose(matrix_b)\n",
        "\n",
        "print(transposta)\n"
      ],
      "metadata": {
        "colab": {
          "base_uri": "https://localhost:8080/"
        },
        "id": "6Zn_lKIJrm3P",
        "outputId": "c0021bbb-ec73-4210-88eb-8f6f8de73b6c"
      },
      "execution_count": null,
      "outputs": [
        {
          "output_type": "stream",
          "name": "stdout",
          "text": [
            "Matriz:\n",
            "[[ 1  2  3]\n",
            " [ 4  5  6]\n",
            " [ 7  8 11]]\n",
            "\n",
            "Diagonal principal:\n",
            "[ 1  5 11]\n",
            "A determinante da matriz é: -6.0\n",
            "\n",
            "Matriz Transposta:\n",
            "[[ 1  4  7]\n",
            " [ 2  5  8]\n",
            " [ 3  6 11]]\n"
          ]
        }
      ]
    },
    {
      "cell_type": "code",
      "source": [
        "import numpy as np\n",
        "\n",
        "# Criando uma matriz de exemplo\n",
        "matriz = np.array([[1, 12, 3],\n",
        "                   [4, 5, 6],\n",
        "                   [7, 8, 9]])\n",
        "\n",
        "# Normalizando a matriz por escala min max\n",
        "matriz_normalizada = (matriz - np.min(matriz)) / (np.max(matriz) - np.min(matriz))\n",
        "\n",
        "print(\"Matriz original:\")\n",
        "print(matriz)\n",
        "print(\"\\nMatriz normalizada:\")\n",
        "print(matriz_normalizada)\n",
        "\n",
        "\n",
        "\n",
        "media = np.mean(matriz)\n",
        "\n",
        "\n",
        "\n",
        "matriz_centralizada = (matriz - media)\n",
        "print('\\nMatriz centralizada:')\n",
        "print(matriz_centralizada)\n",
        "\n",
        "\n",
        "\n",
        "# e para arredondar valores da matriz:\n",
        "matriz_centralizada = np.round(matriz_centralizada, 2)\n",
        "print('\\nMatriz centralizada com valores arredondados:')\n",
        "print(matriz_centralizada)"
      ],
      "metadata": {
        "colab": {
          "base_uri": "https://localhost:8080/"
        },
        "id": "I6i_D2UrpXuV",
        "outputId": "eff6e8a2-1f1c-4e71-f110-b3529320ccd6"
      },
      "execution_count": null,
      "outputs": [
        {
          "output_type": "stream",
          "name": "stdout",
          "text": [
            "Matriz original:\n",
            "[[ 1 12  3]\n",
            " [ 4  5  6]\n",
            " [ 7  8  9]]\n",
            "\n",
            "Matriz normalizada:\n",
            "[[0.         1.         0.18181818]\n",
            " [0.27272727 0.36363636 0.45454545]\n",
            " [0.54545455 0.63636364 0.72727273]]\n",
            "\n",
            "Matriz centralizada:\n",
            "[[-5.11111111  5.88888889 -3.11111111]\n",
            " [-2.11111111 -1.11111111 -0.11111111]\n",
            " [ 0.88888889  1.88888889  2.88888889]]\n",
            "\n",
            "Matriz centralizada com valores arredondados:\n",
            "[[-5.11  5.89 -3.11]\n",
            " [-2.11 -1.11 -0.11]\n",
            " [ 0.89  1.89  2.89]]\n"
          ]
        }
      ]
    }
  ]
}